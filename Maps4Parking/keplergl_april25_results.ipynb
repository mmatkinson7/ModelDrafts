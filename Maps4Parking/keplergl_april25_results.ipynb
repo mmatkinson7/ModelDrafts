{
 "cells": [
  {
   "cell_type": "markdown",
   "metadata": {},
   "source": [
    "# Creating KeplerGL Interactive Map for Parking Rates\n",
    "Using April 25, 2022 data."
   ]
  },
  {
   "cell_type": "code",
   "execution_count": null,
   "metadata": {},
   "outputs": [],
   "source": [
    "import geopandas as gpd\n",
    "import pandas as pd\n",
    "import numpy as np\n",
    "import folium\n",
    "import branca.colormap as cm\n",
    "import keplergl\n",
    "\n",
    "# bring in geojson\n",
    "tazs = gpd.read_file(\"J:\\\\Shared drives\\\\TMD_TSA\\\\Data\\\\Parking\\\\WebScraped_ParkingCost\\\\outputs_april25\\\\tazs_avg_ratesApr25c.geojson\")\n"
   ]
  },
  {
   "cell_type": "code",
   "execution_count": null,
   "metadata": {},
   "outputs": [],
   "source": [
    "tazs.columns"
   ]
  },
  {
   "cell_type": "code",
   "execution_count": null,
   "metadata": {},
   "outputs": [],
   "source": [
    "# filter to just be relevant TAZs for time period\n",
    "tazmr = tazs.query(\"NN_Average_MR_2010 > 0\")[[\"NN_Average_MR_2010\",\n",
    "                      \"geometry\"]]\n",
    "tazdr = tazs.query(\"NN_Average_DR_2010 > 0\")[[\"NN_Average_DR_2010\",\n",
    "                      \"geometry\"]]\n",
    "tazhr = tazs.query(\"NN_Average_HR_2010 > 0\")[[\"NN_Average_HR_2010\",\n",
    "                      \"geometry\"]]"
   ]
  },
  {
   "cell_type": "code",
   "execution_count": null,
   "metadata": {},
   "outputs": [],
   "source": [
    "print(len(tazs))\n",
    "print(len(tazmr))\n",
    "print(len(tazdr))\n",
    "print(len(tazhr))"
   ]
  },
  {
   "cell_type": "code",
   "execution_count": null,
   "metadata": {},
   "outputs": [],
   "source": [
    "km = keplergl.KeplerGl(height = 800)\n",
    "\n",
    "km.add_data(data=tazmr, name = \"Average Monthly Parking Rates\")\n",
    "km.add_data(data=tazdr, name = \"Average Daily Parking Rates\")\n",
    "km.add_data(data=tazhr, name = \"Average Hourly Parking Rates\")"
   ]
  },
  {
   "cell_type": "code",
   "execution_count": null,
   "metadata": {},
   "outputs": [],
   "source": [
    "km"
   ]
  },
  {
   "cell_type": "code",
   "execution_count": null,
   "metadata": {},
   "outputs": [],
   "source": [
    "km_config = km.config\n",
    "\n",
    "km.save_to_html(file_name= \"J:\\\\Shared drives\\\\TMD_TSA\\\\Data\\\\Parking\\\\WebScraped_ParkingCost\\\\kepler_parking_april25data.html\")"
   ]
  }
 ],
 "metadata": {
  "interpreter": {
   "hash": "af606f7bddf94664753041a8e6fb4752c282015dbe3fdaf9366982103ee95f8c"
  },
  "kernelspec": {
   "display_name": "Python 3.7.12 ('geostat')",
   "language": "python",
   "name": "python3"
  },
  "language_info": {
   "codemirror_mode": {
    "name": "ipython",
    "version": 3
   },
   "file_extension": ".py",
   "mimetype": "text/x-python",
   "name": "python",
   "nbconvert_exporter": "python",
   "pygments_lexer": "ipython3",
   "version": "3.7.12"
  },
  "orig_nbformat": 4
 },
 "nbformat": 4,
 "nbformat_minor": 2
}
